{
  "nbformat": 4,
  "nbformat_minor": 0,
  "metadata": {
    "colab": {
      "provenance": [],
      "mount_file_id": "1FO-9gJs5nUGmMcn-05q7_mTPUxjZ8-UU",
      "authorship_tag": "ABX9TyPTVjLiIoiG78fNtJql9WUq",
      "include_colab_link": true
    },
    "kernelspec": {
      "name": "python3",
      "display_name": "Python 3"
    },
    "language_info": {
      "name": "python"
    }
  },
  "cells": [
    {
      "cell_type": "markdown",
      "metadata": {
        "id": "view-in-github",
        "colab_type": "text"
      },
      "source": [
        "<a href=\"https://colab.research.google.com/github/xiajichenxi/python_pytorch/blob/main/2023_0112.ipynb\" target=\"_parent\"><img src=\"https://colab.research.google.com/assets/colab-badge.svg\" alt=\"Open In Colab\"/></a>"
      ]
    },
    {
      "cell_type": "code",
      "execution_count": 1,
      "metadata": {
        "colab": {
          "base_uri": "https://localhost:8080/"
        },
        "id": "yT0D51BDdpqJ",
        "outputId": "330df5e6-f731-4004-ccbe-0e4790258d6d"
      },
      "outputs": [
        {
          "output_type": "stream",
          "name": "stdout",
          "text": [
            "1.13.1+cu116\n"
          ]
        }
      ],
      "source": [
        "# -*- coding:utf-8 -*-\n",
        "\"\"\"\n",
        "#彩虹汽水-2023/1/12-14:06\n",
        "\"\"\"\n",
        "import torch \n",
        "from torch import autograd\n",
        "\n",
        "print(torch.__version__)"
      ]
    }
  ]
}